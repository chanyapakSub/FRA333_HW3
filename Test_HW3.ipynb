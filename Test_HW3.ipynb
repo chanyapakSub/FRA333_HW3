{
 "cells": [
  {
   "cell_type": "markdown",
   "metadata": {},
   "source": [
    "Test Homework3"
   ]
  },
  {
   "cell_type": "markdown",
   "metadata": {},
   "source": [
    "ชื่อ_รหัส \n",
    "\n",
    "1.ณัชณศา_6521\n",
    "\n",
    "2.ชัญญาภัค_6567"
   ]
  },
  {
   "cell_type": "markdown",
   "metadata": {},
   "source": [
    "Import Library"
   ]
  },
  {
   "cell_type": "code",
   "execution_count": null,
   "metadata": {
    "vscode": {
     "languageId": "plaintext"
    }
   },
   "outputs": [],
   "source": [
    "import roboticstoolbox as rtb\n",
    "import numpy as np\n",
    "\n",
    "from spatialmath import SE3\n",
    "from math import pi\n",
    "from HW3_utils import *\n",
    "from FRA333_HW3_6521_6567 import *"
   ]
  },
  {
   "cell_type": "markdown",
   "metadata": {},
   "source": [
    "ข้อที่ 1 : Jacobian Matrix"
   ]
  },
  {
   "cell_type": "markdown",
   "metadata": {},
   "source": [
    "Parameter of Robot"
   ]
  },
  {
   "cell_type": "code",
   "execution_count": null,
   "metadata": {
    "vscode": {
     "languageId": "plaintext"
    }
   },
   "outputs": [],
   "source": [
    "d1 = 0.0892\n",
    "a2 = -0.425\n",
    "a3 = -0.39243\n",
    "d4 = 0.109\n",
    "d5 = 0.093\n",
    "d6 = 0.082"
   ]
  },
  {
   "cell_type": "markdown",
   "metadata": {},
   "source": [
    "DH Parameter (Modify)"
   ]
  },
  {
   "cell_type": "code",
   "execution_count": null,
   "metadata": {
    "vscode": {
     "languageId": "plaintext"
    }
   },
   "outputs": [],
   "source": [
    "T3_e = SE3(a3-d6,-d5,d4) * SE3.RPY(0,-pi/2,0)\n",
    "\n",
    "robot = rtb.DHRobot(\n",
    "    [\n",
    "        rtb.RevoluteMDH(d= d1 ,offset= pi), \n",
    "        rtb.RevoluteMDH(alpha= pi/2), \n",
    "        rtb.RevoluteMDH(a= -a2),\n",
    "    ]\n",
    "    ,tool = T3_e, name=\"3R robot\")\n",
    "\n",
    "print(robot)"
   ]
  }
 ],
 "metadata": {
  "language_info": {
   "name": "python"
  }
 },
 "nbformat": 4,
 "nbformat_minor": 2
}
