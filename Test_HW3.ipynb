{
 "cells": [
  {
   "cell_type": "markdown",
   "metadata": {},
   "source": [
    "Test Homework3"
   ]
  },
  {
   "cell_type": "markdown",
   "metadata": {},
   "source": [
    "ชื่อ_รหัส \n",
    "\n",
    "1.ณัชณศา_6521\n",
    "\n",
    "2.ชัญญาภัค_6567"
   ]
  },
  {
   "cell_type": "markdown",
   "metadata": {},
   "source": [
    "Import Library"
   ]
  },
  {
   "cell_type": "code",
   "execution_count": 1,
   "metadata": {},
   "outputs": [],
   "source": [
    "import roboticstoolbox as rtb\n",
    "import numpy as np\n",
    "\n",
    "from spatialmath import SE3\n",
    "from math import pi\n",
    "from HW3_utils import *\n",
    "from FRA333_HW3_6521_6567 import *"
   ]
  },
  {
   "cell_type": "markdown",
   "metadata": {},
   "source": [
    "ข้อที่ 1 : Jacobian Matrix"
   ]
  },
  {
   "cell_type": "markdown",
   "metadata": {},
   "source": [
    "Parameter of Robot"
   ]
  },
  {
   "cell_type": "code",
   "execution_count": 2,
   "metadata": {},
   "outputs": [],
   "source": [
    "d1 = 0.0892\n",
    "a2 = -0.425\n",
    "a3 = -0.39243\n",
    "d4 = 0.109\n",
    "d5 = 0.093\n",
    "d6 = 0.082"
   ]
  },
  {
   "cell_type": "markdown",
   "metadata": {},
   "source": [
    "DH Parameter (Modify)"
   ]
  },
  {
   "cell_type": "code",
   "execution_count": 3,
   "metadata": {},
   "outputs": [
    {
     "name": "stdout",
     "output_type": "stream",
     "text": [
      "DHRobot: 3R robot, 3 joints (RRR), dynamics, modified DH parameters\n",
      "┌────────┬───────┬────────────┬────────┐\n",
      "│  aⱼ₋₁  │ ⍺ⱼ₋₁  │     θⱼ     │   dⱼ   │\n",
      "├────────┼───────┼────────────┼────────┤\n",
      "│    0.0 │  0.0° │  q1 + 180° │ 0.0892 │\n",
      "│    0.0 │ 90.0° │         q2 │    0.0 │\n",
      "│ -0.425 │  0.0° │         q3 │    0.0 │\n",
      "└────────┴───────┴────────────┴────────┘\n",
      "\n",
      "┌──────┬─────────────────────────────────────────────────┐\n",
      "│ tool │ t = -0.47, -0.093, 0.11; rpy/xyz = 0°, -90°, 0° │\n",
      "└──────┴─────────────────────────────────────────────────┘\n",
      "\n"
     ]
    }
   ],
   "source": [
    "T3_e = SE3(a3-d6,-d5,d4) * SE3.RPY(0,-pi/2,0)\n",
    "\n",
    "robot = rtb.DHRobot(\n",
    "    [\n",
    "        rtb.RevoluteMDH(d= d1 ,offset= pi), \n",
    "        rtb.RevoluteMDH(alpha= pi/2), \n",
    "        rtb.RevoluteMDH(a= a2),\n",
    "    ]\n",
    "    ,tool = T3_e, name=\"3R robot\")\n",
    "\n",
    "print(robot)"
   ]
  },
  {
   "cell_type": "code",
   "execution_count": 4,
   "metadata": {},
   "outputs": [
    {
     "name": "stdout",
     "output_type": "stream",
     "text": [
      "<bound method DHRobot.jacob0 of DHRobot: 3R robot, 3 joints (RRR), dynamics, modified DH parameters\n",
      "┌────────┬───────┬────────────┬────────┐\n",
      "│  aⱼ₋₁  │ ⍺ⱼ₋₁  │     θⱼ     │   dⱼ   │\n",
      "├────────┼───────┼────────────┼────────┤\n",
      "│    0.0 │  0.0° │  q1 + 180° │ 0.0892 │\n",
      "│    0.0 │ 90.0° │         q2 │    0.0 │\n",
      "│ -0.425 │  0.0° │         q3 │    0.0 │\n",
      "└────────┴───────┴────────────┴────────┘\n",
      "\n",
      "┌──────┬─────────────────────────────────────────────────┐\n",
      "│ tool │ t = -0.47, -0.093, 0.11; rpy/xyz = 0°, -90°, 0° │\n",
      "└──────┴─────────────────────────────────────────────────┘\n",
      ">\n"
     ]
    }
   ],
   "source": [
    "print(robot.jacob0)"
   ]
  },
  {
   "cell_type": "markdown",
   "metadata": {},
   "source": [
    "Prove"
   ]
  },
  {
   "cell_type": "code",
   "execution_count": 5,
   "metadata": {},
   "outputs": [
    {
     "name": "stdout",
     "output_type": "stream",
     "text": [
      "[1.31023103 6.05960819 4.80956437]\n",
      "-----------Jacobian จากโค้ด-----------\n",
      "[[-4.59867799e-01  1.48547530e-01  1.24271195e-01]\n",
      " [ 9.80525517e-03  5.57136274e-01  4.66086448e-01]\n",
      " [ 0.00000000e+00 -4.46870836e-01 -3.24488341e-02]\n",
      " [ 0.00000000e+00 -9.66244519e-01 -9.66244519e-01]\n",
      " [ 0.00000000e+00  2.57626802e-01  2.57626802e-01]\n",
      " [ 1.00000000e+00  6.12323426e-17  6.12323426e-17]]\n",
      "-----------Jacob0 จาก Robotics Toolbox------------\n",
      "[[-4.59867799e-01  1.48547534e-01  1.24271199e-01]\n",
      " [ 9.80525517e-03  5.57136261e-01  4.66086438e-01]\n",
      " [ 0.00000000e+00 -4.46870826e-01 -3.24488320e-02]\n",
      " [-1.38777878e-17 -9.66244496e-01 -9.66244496e-01]\n",
      " [-4.16333634e-17  2.57626810e-01  2.57626810e-01]\n",
      " [ 1.00000000e+00  6.12323400e-17  6.12323400e-17]]\n",
      "------------Jacobian ถูกหรือไม่------------\n",
      "Jacobian is correct: True\n"
     ]
    }
   ],
   "source": [
    "def proofJacobian(q: list[float], robot: rtb.DHRobot) -> bool:\n",
    "    # คำนวณ Jacobian จากฟังก์ชัน endEffectorJacobianHW3\n",
    "    J_e = endEffectorJacobianHW3(q)  # Jacobian ที่ได้จากฟังก์ชันที่คุณเขียน\n",
    "\n",
    "    # คำนวณ Jacobian จาก Robotics Toolbox (อ้างอิงเฟรมเดียวกัน: base frame)\n",
    "    J_ertb = robot.jacob0(q)  # Jacobian อ้างอิงจาก base frame\n",
    "\n",
    "    allow_error = 0.0001  # ค่าความคลาดเคลื่อนที่ยอมรับได้ในการเปรียบเทียบ\n",
    "    print(q)\n",
    "    print(\"-----------Jacobian จากโค้ด-----------\")\n",
    "    print(J_e)\n",
    "    print(\"-----------Jacob0 จาก Robotics Toolbox------------\")\n",
    "    print(J_ertb)\n",
    "    print(\"------------Jacobian ถูกหรือไม่------------\")\n",
    "    \n",
    "    # เปรียบเทียบ Jacobian ทั้งสอง\n",
    "    return np.allclose(J_e, J_ertb, atol=allow_error)\n",
    "\n",
    "# สร้างค่า q แบบสุ่ม\n",
    "q = np.random.rand(3) * 2 * np.pi\n",
    "# เรียกใช้หุ่นยนต์ที่สร้างไว้แล้ว (เช่นหุ่นยนต์ 3 ข้อต่อ)\n",
    "result = proofJacobian(q, robot)\n",
    "\n",
    "print(\"Jacobian is correct:\", result)"
   ]
  },
  {
   "cell_type": "markdown",
   "metadata": {},
   "source": [
    "Prove2"
   ]
  },
  {
   "cell_type": "code",
   "execution_count": 6,
   "metadata": {},
   "outputs": [
    {
     "name": "stdout",
     "output_type": "stream",
     "text": [
      "ไม่อยู่ในจุด Singularity\n",
      "q ที่สุ่มได้: [0.02850424 0.80425769 1.48722653]\n",
      "ค่า Determinant จาก RTB: -0.018003396568623157\n",
      "อยู่ในจุด Singularities จาก RTB: False\n",
      "อยู่ในจุด Singularities จาก HW3: False\n",
      "ผลลัพธ์ตรงกันหรือไม่: True\n",
      "ผลลัพธ์สุดท้าย: True\n"
     ]
    }
   ],
   "source": [
    "def proveSingularity(q: list[float], robot: rtb.DHRobot) -> bool:\n",
    "    \n",
    "    # ตรวจสอบ Singularities โดยใช้ฟังก์ชัน checkSingularityHW3\n",
    "    is_singular_HW3 = checkSingularityHW3(q)  # ฟังก์ชันที่คุณให้มา\n",
    "    # คำนวณ Jacobian จาก Robotics Toolbox\n",
    "    J_ertb = robot.jacob0(q)  # Jacobian อ้างอิงจาก base frame\n",
    "    \n",
    "    # ส่วนที่เกี่ยวข้องกับการเคลื่อนที่เชิงเส้น (3x3 matrix)\n",
    "    J_v_part = J_ertb[:3, :]  # เฉพาะส่วนการเคลื่อนที่เชิงเส้นของ Jacobian\n",
    "    \n",
    "    # คำนวณ Determinant ของ Jacobian\n",
    "    determinant = np.linalg.det(J_v_part)\n",
    "    \n",
    "    # ตรวจสอบ Singularities จากค่า determinant\n",
    "    is_singular_rtb = abs(determinant) < 1e-3\n",
    "\n",
    "    # พิมพ์ค่าที่สุ่มและผลลัพธ์ที่เกี่ยวข้อง\n",
    "    print(\"q ที่สุ่มได้:\", q)\n",
    "    print(\"ค่า Determinant จาก RTB:\", determinant)\n",
    "    print(\"อยู่ในจุด Singularities จาก RTB:\", is_singular_rtb)\n",
    "    print(\"อยู่ในจุด Singularities จาก HW3:\", is_singular_HW3)\n",
    "\n",
    "    # เปรียบเทียบผลลัพธ์จากทั้งสองฟังก์ชัน\n",
    "    result = is_singular_HW3 == is_singular_rtb\n",
    "    print(\"ผลลัพธ์ตรงกันหรือไม่:\", result)\n",
    "    \n",
    "    return result\n",
    "\n",
    "# สุ่มค่า q สำหรับหุ่นยนต์ 3 ข้อต่อ\n",
    "q = np.random.rand(3) * 2 * np.pi\n",
    "print(\"ผลลัพธ์สุดท้าย:\", proveSingularity(q,robot))"
   ]
  },
  {
   "cell_type": "markdown",
   "metadata": {},
   "source": [
    "Prove3"
   ]
  },
  {
   "cell_type": "code",
   "execution_count": 5,
   "metadata": {},
   "outputs": [
    {
     "name": "stdout",
     "output_type": "stream",
     "text": [
      "Jacobian (J_e):\n",
      " [[-6.24570207e-02 -3.61132467e-01 -3.06639926e-01]\n",
      " [ 1.19383485e-01  1.79122288e-01  1.52093900e-01]\n",
      " [ 0.00000000e+00 -7.91978266e-02  3.41426733e-01]\n",
      " [ 0.00000000e+00  4.44345713e-01  4.44345713e-01]\n",
      " [ 0.00000000e+00  8.95855367e-01  8.95855367e-01]\n",
      " [ 1.00000000e+00  6.12323426e-17  6.12323426e-17]]\n",
      "Transpose of Jacobian (J_t):\n",
      " [[-6.24570207e-02  1.19383485e-01  0.00000000e+00  0.00000000e+00\n",
      "   0.00000000e+00  1.00000000e+00]\n",
      " [-3.61132467e-01  1.79122288e-01 -7.91978266e-02  4.44345713e-01\n",
      "   8.95855367e-01  6.12323426e-17]\n",
      " [-3.06639926e-01  1.52093900e-01  3.41426733e-01  4.44345713e-01\n",
      "   8.95855367e-01  6.12323426e-17]]\n",
      "Force (w): [10, 5, 2, 0, 0, 0]\n",
      "Torque จากฟังก์ชัน computeEffortHW3 (tau): [-0.02765278 -2.87410888 -1.6230763 ]\n",
      "Torque ที่คำนวณด้วยตนเอง (tau_manual): [-0.02765278 -2.87410888 -1.6230763 ]\n",
      "พิสูจน์สำเร็จ: ผลลัพธ์ถูกต้อง!\n"
     ]
    },
    {
     "data": {
      "text/plain": [
       "True"
      ]
     },
     "execution_count": 5,
     "metadata": {},
     "output_type": "execute_result"
    }
   ],
   "source": [
    "def proveComputeEffort(q: list[float], w: list[float]) -> bool:\n",
    "    # เรียกใช้ฟังก์ชัน computeEffortHW3\n",
    "    tau_result = computeEffortHW3(q, w)\n",
    "    \n",
    "    # พิสูจน์ว่าการคำนวณ torque ถูกต้องหรือไม่\n",
    "    J_e = endEffectorJacobianHW3(q)\n",
    "    J_t = np.transpose(J_e)\n",
    "\n",
    "    # คำนวณ tau ด้วยวิธีการตรง\n",
    "    tau_manual = J_t @ w\n",
    "\n",
    "    # แปลงค่าเป็น numpy array สำหรับการเปรียบเทียบ\n",
    "    tau_result = np.array(tau_result)\n",
    "    tau_manual = np.array(tau_manual)\n",
    "\n",
    "    # พิมพ์ผลลัพธ์เพื่อพิสูจน์\n",
    "    print(\"Jacobian (J_e):\\n\", J_e)\n",
    "    print(\"Transpose of Jacobian (J_t):\\n\", J_t)\n",
    "    print(\"Force (w):\", w)\n",
    "    print(\"Torque จากฟังก์ชัน computeEffortHW3 (tau):\", tau_result)\n",
    "    print(\"Torque ที่คำนวณด้วยตนเอง (tau_manual):\", tau_manual)\n",
    "\n",
    "    # ตรวจสอบว่าผลลัพธ์จากฟังก์ชันตรงกับการคำนวณด้วยตนเองหรือไม่\n",
    "    if np.allclose(tau_result, tau_manual):\n",
    "        print(\"พิสูจน์สำเร็จ: ผลลัพธ์ถูกต้อง!\")\n",
    "        return True\n",
    "    else:\n",
    "        print(\"พิสูจน์ไม่สำเร็จ: ผลลัพธ์ไม่ถูกต้อง\")\n",
    "        return False\n",
    "\n",
    "# เรียกใช้ฟังก์ชันพิสูจน์\n",
    "q = np.random.rand(3) * 2 * np.pi\n",
    "w = [10, 5, 2, 0, 0, 0]\n",
    "proveComputeEffort(q, w)"
   ]
  }
 ],
 "metadata": {
  "kernelspec": {
   "display_name": "Python 3",
   "language": "python",
   "name": "python3"
  },
  "language_info": {
   "codemirror_mode": {
    "name": "ipython",
    "version": 3
   },
   "file_extension": ".py",
   "mimetype": "text/x-python",
   "name": "python",
   "nbconvert_exporter": "python",
   "pygments_lexer": "ipython3",
   "version": "3.12.2"
  }
 },
 "nbformat": 4,
 "nbformat_minor": 2
}
