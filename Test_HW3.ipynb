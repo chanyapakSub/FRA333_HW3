{
 "cells": [
  {
   "cell_type": "markdown",
   "metadata": {},
   "source": [
    "Test Homework3"
   ]
  },
  {
   "cell_type": "markdown",
   "metadata": {},
   "source": [
    "ชื่อ_รหัส \n",
    "\n",
    "1.ณัชณศา_6521\n",
    "\n",
    "2.ชัญญาภัค_6567"
   ]
  },
  {
   "cell_type": "markdown",
   "metadata": {},
   "source": [
    "Import Library"
   ]
  },
  {
   "cell_type": "code",
   "execution_count": 14,
   "metadata": {},
   "outputs": [],
   "source": [
    "import roboticstoolbox as rtb\n",
    "import numpy as np\n",
    "\n",
    "from spatialmath import SE3\n",
    "from math import pi\n",
    "from HW3_utils import *\n",
    "from FRA333_HW3_6521_6567 import *"
   ]
  },
  {
   "cell_type": "markdown",
   "metadata": {},
   "source": [
    "ข้อที่ 1 : Jacobian Matrix"
   ]
  },
  {
   "cell_type": "markdown",
   "metadata": {},
   "source": [
    "Parameter of Robot"
   ]
  },
  {
   "cell_type": "code",
   "execution_count": 15,
   "metadata": {},
   "outputs": [],
   "source": [
    "d1 = 0.0892\n",
    "a2 = -0.425\n",
    "a3 = -0.39243\n",
    "d4 = 0.109\n",
    "d5 = 0.093\n",
    "d6 = 0.082"
   ]
  },
  {
   "cell_type": "markdown",
   "metadata": {},
   "source": [
    "DH Parameter (Modify)"
   ]
  },
  {
   "cell_type": "code",
   "execution_count": 16,
   "metadata": {},
   "outputs": [
    {
     "name": "stdout",
     "output_type": "stream",
     "text": [
      "DHRobot: 3R robot, 3 joints (RRR), dynamics, modified DH parameters\n",
      "┌───────┬───────┬────────────┬────────┐\n",
      "│ aⱼ₋₁  │ ⍺ⱼ₋₁  │     θⱼ     │   dⱼ   │\n",
      "├───────┼───────┼────────────┼────────┤\n",
      "│   0.0 │  0.0° │  q1 + 180° │ 0.0892 │\n",
      "│   0.0 │ 90.0° │         q2 │    0.0 │\n",
      "│ 0.425 │  0.0° │         q3 │    0.0 │\n",
      "└───────┴───────┴────────────┴────────┘\n",
      "\n",
      "┌──────┬─────────────────────────────────────────────────┐\n",
      "│ tool │ t = -0.47, -0.093, 0.11; rpy/xyz = 0°, -90°, 0° │\n",
      "└──────┴─────────────────────────────────────────────────┘\n",
      "\n"
     ]
    }
   ],
   "source": [
    "T3_e = SE3(a3-d6,-d5,d4) * SE3.RPY(0,-pi/2,0)\n",
    "\n",
    "robot = rtb.DHRobot(\n",
    "    [\n",
    "        rtb.RevoluteMDH(d= d1 ,offset= pi), \n",
    "        rtb.RevoluteMDH(alpha= pi/2), \n",
    "        rtb.RevoluteMDH(a= -a2),\n",
    "    ]\n",
    "    ,tool = T3_e, name=\"3R robot\")\n",
    "\n",
    "print(robot)"
   ]
  },
  {
   "cell_type": "code",
   "execution_count": 17,
   "metadata": {},
   "outputs": [
    {
     "name": "stdout",
     "output_type": "stream",
     "text": [
      "<bound method DHRobot.jacob0 of DHRobot: 3R robot, 3 joints (RRR), dynamics, modified DH parameters\n",
      "┌───────┬───────┬────────────┬────────┐\n",
      "│ aⱼ₋₁  │ ⍺ⱼ₋₁  │     θⱼ     │   dⱼ   │\n",
      "├───────┼───────┼────────────┼────────┤\n",
      "│   0.0 │  0.0° │  q1 + 180° │ 0.0892 │\n",
      "│   0.0 │ 90.0° │         q2 │    0.0 │\n",
      "│ 0.425 │  0.0° │         q3 │    0.0 │\n",
      "└───────┴───────┴────────────┴────────┘\n",
      "\n",
      "┌──────┬─────────────────────────────────────────────────┐\n",
      "│ tool │ t = -0.47, -0.093, 0.11; rpy/xyz = 0°, -90°, 0° │\n",
      "└──────┴─────────────────────────────────────────────────┘\n",
      ">\n"
     ]
    }
   ],
   "source": [
    "print(robot.jacob0)"
   ]
  },
  {
   "cell_type": "markdown",
   "metadata": {},
   "source": [
    "Prove"
   ]
  },
  {
   "cell_type": "code",
   "execution_count": 11,
   "metadata": {},
   "outputs": [
    {
     "name": "stdout",
     "output_type": "stream",
     "text": [
      "Jacobian ที่คำนวณได้จากฟังก์ชันหุ่นยนต์ (analytic):\n",
      " [[ 2.06209339e-01  1.92955868e-01 -2.12467555e-01]\n",
      " [ 3.29933099e-01 -5.43690327e-02  5.98668264e-02]\n",
      " [-0.00000000e+00  3.73493152e-01  4.30123604e-01]\n",
      " [ 0.00000000e+00 -2.71208704e-01 -2.71208704e-01]\n",
      " [ 0.00000000e+00 -9.62520540e-01 -9.62520540e-01]\n",
      " [ 1.00000000e+00  6.12323426e-17  6.12323426e-17]]\n",
      "\n",
      "Jacobian ที่คำนวณได้จาก Numerical Differentiation:\n",
      " [[ 2.06209174e-01  1.92955693e-01 -2.12467767e-01]\n",
      " [ 3.29933202e-01 -5.43689827e-02  5.98668854e-02]\n",
      " [ 0.00000000e+00  3.73493261e-01  4.30123504e-01]\n",
      " [ 0.00000000e+00 -9.97692883e-01 -9.97692883e-01]\n",
      " [ 0.00000000e+00 -6.78891689e-02 -6.78891689e-02]\n",
      " [ 1.00000000e+00  6.12323426e-17  6.12323426e-17]]\n",
      "\n",
      "ความแตกต่างระหว่างสองวิธี:\n",
      " [[1.64905017e-07 1.74825341e-07 2.12512827e-07]\n",
      " [1.03138316e-07 5.00360750e-08 5.89921374e-08]\n",
      " [0.00000000e+00 1.09040005e-07 1.00172657e-07]\n",
      " [0.00000000e+00 7.26484179e-01 7.26484179e-01]\n",
      " [0.00000000e+00 8.94631371e-01 8.94631371e-01]\n",
      " [0.00000000e+00 0.00000000e+00 0.00000000e+00]]\n"
     ]
    }
   ],
   "source": [
    "def numerical_jacobian(q, delta=1e-6):\n",
    "    J_numerical = np.empty((6, len(q)))\n",
    "\n",
    "    # คำนวณตำแหน่งและการหมุนของ end-effector ที่จุดเริ่มต้น\n",
    "    R, P, R_e, p_e_initial = FKHW3(q)\n",
    "\n",
    "    for i in range(len(q)):\n",
    "        # สร้าง perturbation (การเปลี่ยนแปลงเล็กๆ) ให้กับ q[i]\n",
    "        q_perturbed = np.copy(q)\n",
    "        q_perturbed[i] += delta\n",
    "\n",
    "        # คำนวณตำแหน่งและการหมุนของ end-effector หลังจาก perturbation\n",
    "        R, P, R_e, p_e_perturbed = FKHW3(q_perturbed)\n",
    "\n",
    "        # คำนวณการเปลี่ยนแปลงของตำแหน่งและการหมุน\n",
    "        dp = (p_e_perturbed - p_e_initial) / delta\n",
    "\n",
    "        # ใช้เวกเตอร์ต่างเชิงอนุพันธ์เพื่อคำนวณ angular velocity ด้วยวิธี numerical\n",
    "        J_numerical[:3, i] = dp  # Linear part\n",
    "        # Angular part: ยังไม่ได้ใช้ส่วนนี้ (ขึ้นกับทิศทางการหมุนที่ได้จาก p_e)\n",
    "\n",
    "    return J_numerical\n",
    "\n",
    "# สุ่มค่า q เพื่อทดสอบ\n",
    "q_random = np.random.rand(3) * 2 * np.pi  # ค่า q สุ่มในช่วง [0, 2π]\n",
    "\n",
    "# คำนวณ Jacobian ด้วยฟังก์ชันที่เขียน\n",
    "J_analytic = endEffectorJacobianHW3(q_random)\n",
    "\n",
    "# คำนวณ Jacobian ด้วยวิธี numerical differentiation\n",
    "J_numerical = numerical_jacobian(q_random)\n",
    "\n",
    "# แสดงผลลัพธ์\n",
    "print(\"Jacobian ที่คำนวณได้จากฟังก์ชันหุ่นยนต์ (analytic):\\n\", J_analytic)\n",
    "print(\"\\nJacobian ที่คำนวณได้จาก Numerical Differentiation:\\n\", J_numerical)\n",
    "\n",
    "# ตรวจสอบว่า Jacobian ที่คำนวณได้นั้นใกล้เคียงกัน\n",
    "difference = np.abs(J_analytic - J_numerical)\n",
    "print(\"\\nความแตกต่างระหว่างสองวิธี:\\n\", difference)"
   ]
  },
  {
   "cell_type": "code",
   "execution_count": 33,
   "metadata": {},
   "outputs": [
    {
     "name": "stdout",
     "output_type": "stream",
     "text": [
      "[4.16530338 5.50252146 1.00953679]\n",
      "-----------Jacobian จากโค้ดของคุณ-----------\n",
      "[[ 6.91169658e-01 -5.24782184e-02  1.03110745e-01]\n",
      " [-2.93365075e-01 -8.61566336e-02  1.69283084e-01]\n",
      " [ 0.00000000e+00 -7.42898075e-01 -4.40958310e-01]\n",
      " [ 0.00000000e+00  8.54044199e-01  8.54044199e-01]\n",
      " [ 0.00000000e+00 -5.20200431e-01 -5.20200431e-01]\n",
      " [ 1.00000000e+00  6.12323426e-17  6.12323426e-17]]\n",
      "-----------Jacob0 จาก Robotics Toolbox------------\n",
      "[[ 1.75429832e-01  2.58699701e-01  1.03110742e-01]\n",
      " [ 2.07733133e-02  4.24722810e-01  1.69283087e-01]\n",
      " [ 3.46944695e-18 -1.39018547e-01 -4.40958316e-01]\n",
      " [ 0.00000000e+00  8.54044217e-01  8.54044217e-01]\n",
      " [-5.55111512e-17 -5.20200419e-01 -5.20200419e-01]\n",
      " [ 1.00000000e+00  6.12323400e-17  6.12323400e-17]]\n",
      "------------Jacobian ถูกหรือไม่------------\n",
      "Jacobian is correct: False\n"
     ]
    }
   ],
   "source": [
    "def proofJacobian(q: list[float], robot: rtb.DHRobot) -> bool:\n",
    "    # คำนวณ Jacobian จากฟังก์ชัน endEffectorJacobianHW3\n",
    "    J_e = endEffectorJacobianHW3(q)  # Jacobian ที่ได้จากฟังก์ชันที่คุณเขียน\n",
    "\n",
    "    # คำนวณ Jacobian จาก Robotics Toolbox (อ้างอิงเฟรมเดียวกัน: base frame)\n",
    "    J_ertb = robot.jacob0(q)  # Jacobian อ้างอิงจาก base frame\n",
    "\n",
    "    allow_error = 0.0001  # ค่าความคลาดเคลื่อนที่ยอมรับได้ในการเปรียบเทียบ\n",
    "    print(q)\n",
    "    print(\"-----------Jacobian จากโค้ดของคุณ-----------\")\n",
    "    print(J_e)\n",
    "    print(\"-----------Jacob0 จาก Robotics Toolbox------------\")\n",
    "    print(J_ertb)\n",
    "    print(\"------------Jacobian ถูกหรือไม่------------\")\n",
    "    \n",
    "    # เปรียบเทียบ Jacobian ทั้งสอง\n",
    "    return np.allclose(J_e, J_ertb, atol=allow_error)\n",
    "\n",
    "# สร้างค่า q แบบสุ่ม\n",
    "q = np.random.rand(3) * 2 * np.pi\n",
    "# เรียกใช้หุ่นยนต์ที่สร้างไว้แล้ว (เช่นหุ่นยนต์ 3 ข้อต่อ)\n",
    "result = proofJacobian(q, robot)\n",
    "\n",
    "print(\"Jacobian is correct:\", result)"
   ]
  }
 ],
 "metadata": {
  "kernelspec": {
   "display_name": "Python 3",
   "language": "python",
   "name": "python3"
  },
  "language_info": {
   "codemirror_mode": {
    "name": "ipython",
    "version": 3
   },
   "file_extension": ".py",
   "mimetype": "text/x-python",
   "name": "python",
   "nbconvert_exporter": "python",
   "pygments_lexer": "ipython3",
   "version": "3.12.2"
  }
 },
 "nbformat": 4,
 "nbformat_minor": 2
}
