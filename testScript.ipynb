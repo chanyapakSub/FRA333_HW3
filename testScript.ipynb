{
 "cells": [
  {
   "cell_type": "markdown",
   "metadata": {},
   "source": [
    "Test Homework3"
   ]
  },
  {
   "cell_type": "markdown",
   "metadata": {},
   "source": [
    "ชื่อ_รหัส \n",
    "\n",
    "1.ณัชณศา_6521\n",
    "\n",
    "2.ชัญญาภัค_6567"
   ]
  },
  {
   "cell_type": "markdown",
   "metadata": {},
   "source": [
    "Import Library"
   ]
  },
  {
   "cell_type": "code",
   "execution_count": 2,
   "metadata": {},
   "outputs": [],
   "source": [
    "import roboticstoolbox as rtb\n",
    "import numpy as np\n",
    "\n",
    "from spatialmath import SE3\n",
    "from math import pi\n",
    "from HW3_utils import *\n",
    "from FRA333_HW3_6521_6567 import *"
   ]
  },
  {
   "cell_type": "markdown",
   "metadata": {},
   "source": [
    "ROBOT 3DOF"
   ]
  },
  {
   "cell_type": "markdown",
   "metadata": {},
   "source": [
    "Parameter of Robot"
   ]
  },
  {
   "cell_type": "code",
   "execution_count": 3,
   "metadata": {},
   "outputs": [],
   "source": [
    "d1 = 0.0892\n",
    "a2 = -0.425\n",
    "a3 = -0.39243\n",
    "d4 = 0.109\n",
    "d5 = 0.093\n",
    "d6 = 0.082"
   ]
  },
  {
   "cell_type": "markdown",
   "metadata": {},
   "source": [
    "DH Parameter (Modify)"
   ]
  },
  {
   "cell_type": "code",
   "execution_count": 4,
   "metadata": {},
   "outputs": [
    {
     "name": "stdout",
     "output_type": "stream",
     "text": [
      "DHRobot: 3R robot, 3 joints (RRR), dynamics, modified DH parameters\n",
      "┌────────┬───────┬────────────┬────────┐\n",
      "│  aⱼ₋₁  │ ⍺ⱼ₋₁  │     θⱼ     │   dⱼ   │\n",
      "├────────┼───────┼────────────┼────────┤\n",
      "│    0.0 │  0.0° │  q1 + 180° │ 0.0892 │\n",
      "│    0.0 │ 90.0° │         q2 │    0.0 │\n",
      "│ -0.425 │  0.0° │         q3 │    0.0 │\n",
      "└────────┴───────┴────────────┴────────┘\n",
      "\n",
      "┌──────┬─────────────────────────────────────────────────┐\n",
      "│ tool │ t = -0.47, -0.093, 0.11; rpy/xyz = 0°, -90°, 0° │\n",
      "└──────┴─────────────────────────────────────────────────┘\n",
      "\n"
     ]
    }
   ],
   "source": [
    "T3_e = SE3(a3-d6,-d5,d4) * SE3.RPY(0,-pi/2,0)\n",
    "\n",
    "robot = rtb.DHRobot(\n",
    "    [\n",
    "        rtb.RevoluteMDH(d= d1 ,offset= pi), \n",
    "        rtb.RevoluteMDH(alpha= pi/2), \n",
    "        rtb.RevoluteMDH(a= a2),\n",
    "    ]\n",
    "    ,tool = T3_e, name=\"3R robot\")\n",
    "\n",
    "print(robot)"
   ]
  },
  {
   "cell_type": "markdown",
   "metadata": {},
   "source": [
    "Prove1"
   ]
  },
  {
   "cell_type": "code",
   "execution_count": 5,
   "metadata": {},
   "outputs": [
    {
     "name": "stdout",
     "output_type": "stream",
     "text": [
      "[1.75622025 4.13608692 4.38447818]\n",
      "-----------Jacobian จากโค้ด-----------\n",
      "[[ 6.07872738e-01 -7.55610653e-03  5.81427361e-02]\n",
      " [ 3.12290150e-03  4.02823366e-02 -3.09964564e-01]\n",
      " [-0.00000000e+00  5.98028441e-01  3.66434463e-01]\n",
      " [ 0.00000000e+00 -9.82858181e-01 -9.82858181e-01]\n",
      " [ 0.00000000e+00 -1.84363216e-01 -1.84363216e-01]\n",
      " [ 1.00000000e+00  6.12323426e-17  6.12323426e-17]]\n",
      "-----------Jacob0 จาก Robotics Toolbox------------\n",
      "[[ 6.07872738e-01 -7.55610629e-03  5.81427342e-02]\n",
      " [ 3.12290150e-03  4.02823366e-02 -3.09964564e-01]\n",
      " [ 6.93889390e-18  5.98028442e-01  3.66434464e-01]\n",
      " [ 0.00000000e+00 -9.82858182e-01 -9.82858182e-01]\n",
      " [ 0.00000000e+00 -1.84363210e-01 -1.84363210e-01]\n",
      " [ 1.00000000e+00  6.12323400e-17  6.12323400e-17]]\n",
      "------------Jacobian ถูกหรือไม่------------\n",
      "Jacobian is correct: True\n"
     ]
    }
   ],
   "source": [
    "def proofJacobian(q: list[float], robot: rtb.DHRobot) -> bool:\n",
    "    # Jacobian from my answer \n",
    "    J_e = endEffectorJacobianHW3(q) \n",
    "\n",
    "    # Jacobian from Robotics Toolbox (reference base frame)\n",
    "    J_ertb = robot.jacob0(q) \n",
    "\n",
    "    # Tolerance as needed\n",
    "    allow_error = 0.0001  \n",
    "    \n",
    "    print(q)\n",
    "    print(\"-----------Jacobian จากโค้ด-----------\")\n",
    "    print(J_e)\n",
    "    print(\"-----------Jacob0 จาก Robotics Toolbox------------\")\n",
    "    print(J_ertb)\n",
    "    print(\"------------Jacobian ถูกหรือไม่------------\")\n",
    "    \n",
    "    # Compare Jacobian (my answer VS Robotics Toolbox)\n",
    "    return np.allclose(J_e, J_ertb, atol=allow_error)\n",
    "\n",
    "# Random q \n",
    "q = np.random.rand(3) * 2 * np.pi\n",
    "\n",
    "result = proofJacobian(q, robot)\n",
    "\n",
    "print(\"Jacobian is correct:\", result)"
   ]
  },
  {
   "cell_type": "markdown",
   "metadata": {},
   "source": [
    "Prove2"
   ]
  },
  {
   "cell_type": "code",
   "execution_count": 6,
   "metadata": {},
   "outputs": [
    {
     "name": "stdout",
     "output_type": "stream",
     "text": [
      "q ที่สุ่มได้: [0.30983648 3.4520033  5.78678598]\n",
      "ค่า Determinant จาก RTB: 0.054420996870948195\n",
      "อยู่ในจุด Singularities จาก RTB: False\n",
      "อยู่ในจุด Singularities จาก HW3: False\n",
      "ผลลัพธ์ตรงกันหรือไม่: True\n",
      "ผลลัพธ์สุดท้าย: True\n"
     ]
    }
   ],
   "source": [
    "def proveSingularity(q: list[float], robot: rtb.DHRobot) -> bool:\n",
    "    \n",
    "    is_singular_HW3 = checkSingularityHW3(q)\n",
    "\n",
    "    # Jacobian from Robotics Toolbox (Reference from base frame)\n",
    "    J_ertb = robot.jacob0(q)  \n",
    "    \n",
    "    # part of linear velocity (3x3 matrix)\n",
    "    J_v_part = J_ertb[:3, :] \n",
    "    \n",
    "    # Determinant of Jacobian\n",
    "    determinant = np.linalg.det(J_v_part)\n",
    "    \n",
    "    # Check Singularity from determinant\n",
    "    is_singular_rtb = abs(determinant) < 1e-3\n",
    "\n",
    "    print(\"q ที่สุ่มได้:\", q)\n",
    "    print(\"ค่า Determinant จาก RTB:\", determinant)\n",
    "    print(\"อยู่ในจุด Singularities จาก RTB:\", is_singular_rtb)\n",
    "    print(\"อยู่ในจุด Singularities จาก HW3:\", is_singular_HW3)\n",
    "\n",
    "    # Compare the results of the two functions  \n",
    "    result = is_singular_HW3 == is_singular_rtb\n",
    "    print(\"ผลลัพธ์ตรงกันหรือไม่:\", result)\n",
    "    \n",
    "    return result\n",
    "\n",
    "# random q for robot 3DOF\n",
    "q = np.random.rand(3) * 2 * np.pi\n",
    "print(\"ผลลัพธ์สุดท้าย:\", proveSingularity(q,robot))\n",
    "\n",
    "# example that Singularity \n",
    "# q = [5.88029104 1.70964541 3.03725032]"
   ]
  },
  {
   "cell_type": "markdown",
   "metadata": {},
   "source": [
    "Prove3"
   ]
  },
  {
   "cell_type": "code",
   "execution_count": 7,
   "metadata": {},
   "outputs": [],
   "source": [
    "def proofEffort(robot):\n",
    "    # Generate random q and w\n",
    "    q = np.random.rand(3) * 2 * np.pi\n",
    "    # w is now an array of 6 elements (moment + force)\n",
    "    w = np.random.uniform(-np.pi, np.pi, size=6)  \n",
    "\n",
    "    # Separate force and moment\n",
    "    f_e = w[3:]  # Force\n",
    "    n_e = w[:3]  # Moment\n",
    "    \n",
    "    # Concatenate force and moment into wrench\n",
    "    w_e = np.concatenate((f_e, n_e), axis=0)\n",
    "\n",
    "    # Calculate joint effort using Robotics Toolbox\n",
    "    a = robot.pay(W=w_e, q=q, frame=1)\n",
    "    \n",
    "    # Calculate joint effort using custom function\n",
    "    b = computeEffortHW3(q, w)\n",
    "\n",
    "    # Print the results\n",
    "    print(f\"Joint Effort RTB : {-a}\")\n",
    "    print(f\"Joint Effort HW3 : {b}\")\n",
    "    \n",
    "    # Compare the results with a tolerance\n",
    "    if np.allclose(-a, b, atol=1e-4):  #tolerance as needed\n",
    "        print(\"The results are correct and match!\")\n",
    "    else:\n",
    "        print(\"The results do not match.\")\n",
    "        \n",
    "proofEffort(robot)"
   ]
  },
  {
   "cell_type": "code",
   "execution_count": 8,
   "metadata": {},
   "outputs": [
    {
     "name": "stdout",
     "output_type": "stream",
     "text": [
      "Joint Effort RTB : [-0.68371874 -1.58570814 -1.83964365]\n",
      "Joint Effort HW3 : [-0.68371875 -1.58570815 -1.83964365]\n",
      "The results are correct and match!\n"
     ]
    }
   ],
   "source": [
    "proofEffort(robot)"
   ]
  }
 ],
 "metadata": {
  "kernelspec": {
   "display_name": "Python 3",
   "language": "python",
   "name": "python3"
  },
  "language_info": {
   "codemirror_mode": {
    "name": "ipython",
    "version": 3
   },
   "file_extension": ".py",
   "mimetype": "text/x-python",
   "name": "python",
   "nbconvert_exporter": "python",
   "pygments_lexer": "ipython3",
   "version": "3.12.2"
  }
 },
 "nbformat": 4,
 "nbformat_minor": 2
}
