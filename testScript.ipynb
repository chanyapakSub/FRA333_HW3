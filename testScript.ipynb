{
 "cells": [
  {
   "cell_type": "markdown",
   "metadata": {},
   "source": [
    "Test Homework3"
   ]
  },
  {
   "cell_type": "markdown",
   "metadata": {},
   "source": [
    "ชื่อ_รหัส \n",
    "\n",
    "1.ณัชณศา_6521\n",
    "\n",
    "2.ชัญญาภัค_6567"
   ]
  },
  {
   "cell_type": "markdown",
   "metadata": {},
   "source": [
    "Import Library"
   ]
  },
  {
   "cell_type": "code",
   "execution_count": 1,
   "metadata": {},
   "outputs": [],
   "source": [
    "import roboticstoolbox as rtb\n",
    "import numpy as np\n",
    "\n",
    "from spatialmath import SE3\n",
    "from math import pi\n",
    "from HW3_utils import *\n",
    "from FRA333_HW3_6521_6567 import *"
   ]
  },
  {
   "cell_type": "markdown",
   "metadata": {},
   "source": [
    "ROBOT 3DOF"
   ]
  },
  {
   "cell_type": "markdown",
   "metadata": {},
   "source": [
    "Parameter of Robot"
   ]
  },
  {
   "cell_type": "code",
   "execution_count": 2,
   "metadata": {},
   "outputs": [],
   "source": [
    "d1 = 0.0892\n",
    "a2 = -0.425\n",
    "a3 = -0.39243\n",
    "d4 = 0.109\n",
    "d5 = 0.093\n",
    "d6 = 0.082"
   ]
  },
  {
   "cell_type": "markdown",
   "metadata": {},
   "source": [
    "DH Parameter (Modify)"
   ]
  },
  {
   "cell_type": "code",
   "execution_count": 3,
   "metadata": {},
   "outputs": [
    {
     "name": "stdout",
     "output_type": "stream",
     "text": [
      "DHRobot: 3R robot, 3 joints (RRR), dynamics, modified DH parameters\n",
      "┌────────┬───────┬────────────┬────────┐\n",
      "│  aⱼ₋₁  │ ⍺ⱼ₋₁  │     θⱼ     │   dⱼ   │\n",
      "├────────┼───────┼────────────┼────────┤\n",
      "│    0.0 │  0.0° │  q1 + 180° │ 0.0892 │\n",
      "│    0.0 │ 90.0° │         q2 │    0.0 │\n",
      "│ -0.425 │  0.0° │         q3 │    0.0 │\n",
      "└────────┴───────┴────────────┴────────┘\n",
      "\n",
      "┌──────┬─────────────────────────────────────────────────┐\n",
      "│ tool │ t = -0.47, -0.093, 0.11; rpy/xyz = 0°, -90°, 0° │\n",
      "└──────┴─────────────────────────────────────────────────┘\n",
      "\n"
     ]
    }
   ],
   "source": [
    "T3_e = SE3(a3-d6,-d5,d4) * SE3.RPY(0,-pi/2,0)\n",
    "\n",
    "robot = rtb.DHRobot(\n",
    "    [\n",
    "        rtb.RevoluteMDH(d= d1 ,offset= pi), \n",
    "        rtb.RevoluteMDH(alpha= pi/2), \n",
    "        rtb.RevoluteMDH(a= a2),\n",
    "    ]\n",
    "    ,tool = T3_e, name=\"3R robot\")\n",
    "\n",
    "print(robot)"
   ]
  },
  {
   "cell_type": "markdown",
   "metadata": {},
   "source": [
    "Prove1"
   ]
  },
  {
   "cell_type": "code",
   "execution_count": 5,
   "metadata": {},
   "outputs": [
    {
     "name": "stdout",
     "output_type": "stream",
     "text": [
      "[1.31023103 6.05960819 4.80956437]\n",
      "-----------Jacobian จากโค้ด-----------\n",
      "[[-4.59867799e-01  1.48547530e-01  1.24271195e-01]\n",
      " [ 9.80525517e-03  5.57136274e-01  4.66086448e-01]\n",
      " [ 0.00000000e+00 -4.46870836e-01 -3.24488341e-02]\n",
      " [ 0.00000000e+00 -9.66244519e-01 -9.66244519e-01]\n",
      " [ 0.00000000e+00  2.57626802e-01  2.57626802e-01]\n",
      " [ 1.00000000e+00  6.12323426e-17  6.12323426e-17]]\n",
      "-----------Jacob0 จาก Robotics Toolbox------------\n",
      "[[-4.59867799e-01  1.48547534e-01  1.24271199e-01]\n",
      " [ 9.80525517e-03  5.57136261e-01  4.66086438e-01]\n",
      " [ 0.00000000e+00 -4.46870826e-01 -3.24488320e-02]\n",
      " [-1.38777878e-17 -9.66244496e-01 -9.66244496e-01]\n",
      " [-4.16333634e-17  2.57626810e-01  2.57626810e-01]\n",
      " [ 1.00000000e+00  6.12323400e-17  6.12323400e-17]]\n",
      "------------Jacobian ถูกหรือไม่------------\n",
      "Jacobian is correct: True\n"
     ]
    }
   ],
   "source": [
    "def proofJacobian(q: list[float], robot: rtb.DHRobot) -> bool:\n",
    "    # Jacobian from my answer \n",
    "    J_e = endEffectorJacobianHW3(q) \n",
    "\n",
    "    # Jacobian from Robotics Toolbox (reference base frame)\n",
    "    J_ertb = robot.jacob0(q) \n",
    "\n",
    "    # Tolerance as needed\n",
    "    allow_error = 0.0001  \n",
    "    \n",
    "    print(q)\n",
    "    print(\"-----------Jacobian จากโค้ด-----------\")\n",
    "    print(J_e)\n",
    "    print(\"-----------Jacob0 จาก Robotics Toolbox------------\")\n",
    "    print(J_ertb)\n",
    "    print(\"------------Jacobian ถูกหรือไม่------------\")\n",
    "    \n",
    "    # Compare Jacobian (my answer VS Robotics Toolbox)\n",
    "    return np.allclose(J_e, J_ertb, atol=allow_error)\n",
    "\n",
    "# Random q \n",
    "q = np.random.rand(3) * 2 * np.pi\n",
    "\n",
    "result = proofJacobian(q, robot)\n",
    "\n",
    "print(\"Jacobian is correct:\", result)"
   ]
  },
  {
   "cell_type": "markdown",
   "metadata": {},
   "source": [
    "Prove2"
   ]
  },
  {
   "cell_type": "code",
   "execution_count": 6,
   "metadata": {},
   "outputs": [
    {
     "name": "stdout",
     "output_type": "stream",
     "text": [
      "ไม่อยู่ในจุด Singularity\n",
      "q ที่สุ่มได้: [0.02850424 0.80425769 1.48722653]\n",
      "ค่า Determinant จาก RTB: -0.018003396568623157\n",
      "อยู่ในจุด Singularities จาก RTB: False\n",
      "อยู่ในจุด Singularities จาก HW3: False\n",
      "ผลลัพธ์ตรงกันหรือไม่: True\n",
      "ผลลัพธ์สุดท้าย: True\n"
     ]
    }
   ],
   "source": [
    "def proveSingularity(q: list[float], robot: rtb.DHRobot) -> bool:\n",
    "    \n",
    "    is_singular_HW3 = checkSingularityHW3(q)\n",
    "\n",
    "    # Jacobian from Robotics Toolbox (Reference from base frame)\n",
    "    J_ertb = robot.jacob0(q)  \n",
    "    \n",
    "    # part of linear velocity (3x3 matrix)\n",
    "    J_v_part = J_ertb[:3, :] \n",
    "    \n",
    "    # Determinant of Jacobian\n",
    "    determinant = np.linalg.det(J_v_part)\n",
    "    \n",
    "    # Check Singularity from determinant\n",
    "    is_singular_rtb = abs(determinant) < 1e-3\n",
    "\n",
    "    print(\"q ที่สุ่มได้:\", q)\n",
    "    print(\"ค่า Determinant จาก RTB:\", determinant)\n",
    "    print(\"อยู่ในจุด Singularities จาก RTB:\", is_singular_rtb)\n",
    "    print(\"อยู่ในจุด Singularities จาก HW3:\", is_singular_HW3)\n",
    "\n",
    "    # Compare the results of the two functions  \n",
    "    result = is_singular_HW3 == is_singular_rtb\n",
    "    print(\"ผลลัพธ์ตรงกันหรือไม่:\", result)\n",
    "    \n",
    "    return result\n",
    "\n",
    "# random q for robot 3DOF\n",
    "q = np.random.rand(3) * 2 * np.pi\n",
    "print(\"ผลลัพธ์สุดท้าย:\", proveSingularity(q,robot))\n",
    "\n",
    "# example that Singularity \n",
    "# q = [5.88029104 1.70964541 3.03725032]"
   ]
  },
  {
   "cell_type": "markdown",
   "metadata": {},
   "source": [
    "Prove3"
   ]
  },
  {
   "cell_type": "code",
   "execution_count": 3,
   "metadata": {},
   "outputs": [],
   "source": [
    "def proofEffort(robot):\n",
    "    # Generate random q and w\n",
    "    q = np.random.rand(3) * 2 * np.pi\n",
    "    # w is now an array of 6 elements (moment + force)\n",
    "    w = np.random.uniform(-np.pi, np.pi, size=6)  \n",
    "\n",
    "    # Separate force and moment\n",
    "    f_e = w[3:]  # Force\n",
    "    n_e = w[:3]  # Moment\n",
    "    \n",
    "    # Concatenate force and moment into wrench\n",
    "    w_e = np.concatenate((f_e, n_e), axis=0)\n",
    "\n",
    "    # Calculate joint effort using Robotics Toolbox\n",
    "    a = robot.pay(W=w_e, q=q, frame=1)\n",
    "    \n",
    "    # Calculate joint effort using custom function\n",
    "    b = computeEffortHW3(q, w)\n",
    "\n",
    "    # Print the results\n",
    "    print(f\"Joint Effort RTB : {-a}\")\n",
    "    print(f\"Joint Effort HW3 : {b}\")\n",
    "    \n",
    "    # Compare the results with a tolerance\n",
    "    if np.allclose(-a, b, atol=1e-4):  #tolerance as needed\n",
    "        print(\"The results are correct and match!\")\n",
    "    else:\n",
    "        print(\"The results do not match.\")"
   ]
  },
  {
   "cell_type": "code",
   "execution_count": null,
   "metadata": {},
   "outputs": [],
   "source": [
    "proofEffort(robot)"
   ]
  }
 ],
 "metadata": {
  "kernelspec": {
   "display_name": "Python 3",
   "language": "python",
   "name": "python3"
  },
  "language_info": {
   "codemirror_mode": {
    "name": "ipython",
    "version": 3
   },
   "file_extension": ".py",
   "mimetype": "text/x-python",
   "name": "python",
   "nbconvert_exporter": "python",
   "pygments_lexer": "ipython3",
   "version": "3.10.4"
  }
 },
 "nbformat": 4,
 "nbformat_minor": 2
}
